{
 "cells": [
  {
   "cell_type": "code",
   "execution_count": 1,
   "metadata": {},
   "outputs": [],
   "source": [
    "import torch\n",
    "import torch.nn as nn\n",
    "import torch.optim as optim\n",
    "from torchvision import datasets, transforms\n",
    "from torch.autograd import Variable\n",
    "from PIL import Image\n",
    "import torch.nn.functional as F\n",
    "import numpy as np\n",
    "import matplotlib.pyplot as plt"
   ]
  },
  {
   "cell_type": "code",
   "execution_count": 2,
   "metadata": {},
   "outputs": [],
   "source": [
    "import os\n",
    "os.environ['KMP_DUPLICATE_LIB_OK']='True'"
   ]
  },
  {
   "cell_type": "code",
   "execution_count": 3,
   "metadata": {},
   "outputs": [
    {
     "data": {
      "text/plain": [
       "<torch._C.Generator at 0x150918d70c10>"
      ]
     },
     "execution_count": 3,
     "metadata": {},
     "output_type": "execute_result"
    }
   ],
   "source": [
    "torch.manual_seed(1)"
   ]
  },
  {
   "cell_type": "code",
   "execution_count": 4,
   "metadata": {},
   "outputs": [],
   "source": [
    "def load_data(train_batch_size, test_batch_size):\n",
    "    # Fetch training data: total 60000 samples\n",
    "        \n",
    "    trainset = datasets.MNIST('data', train = True, download = False, \n",
    "                transform = transforms.Compose([\n",
    "                transforms.Resize((32,32)),\n",
    "                transforms.ToTensor(),\n",
    "                transforms.Normalize((0.1307,), (0.3081,))\n",
    "                ]))\n",
    "    temp = torch.tensor(np.random.randint(0, 10, (len(trainset)),))\n",
    "    trainset.targets = temp\n",
    "    train_loader = torch.utils.data.DataLoader(trainset, batch_size=train_batch_size, shuffle=True)\n",
    "\n",
    "    testset = datasets.MNIST('data', train = False, \n",
    "                transform = transforms.Compose([\n",
    "                transforms.Resize((32, 32)),\n",
    "                transforms.ToTensor(),\n",
    "                transforms.Normalize((0.1307,), (0.3081,))\n",
    "                ]))\n",
    "    test_loader = torch.utils.data.DataLoader(testset ,batch_size = test_batch_size, shuffle=True)\n",
    "\n",
    "    return (train_loader, test_loader)"
   ]
  },
  {
   "cell_type": "code",
   "execution_count": 5,
   "metadata": {},
   "outputs": [],
   "source": [
    "class CNN(nn.Module):\n",
    "    def __init__(self):\n",
    "        super(CNN, self).__init__()\n",
    "        \n",
    "        self.conv1 = nn.Conv2d(1, 6, 5)\n",
    "        self.conv2 = nn.Conv2d(6, 16, 5)\n",
    "        self.fc1 = nn.Linear(16 * 5 * 5, 120)\n",
    "        self.fc2 = nn.Linear(120, 84)\n",
    "        self.fc3 = nn.Linear(84, 10)\n",
    "\n",
    "    def forward(self, x):\n",
    "        x = F.max_pool2d(F.relu(self.conv1(x)), 2)\n",
    "        x = F.max_pool2d(F.relu(self.conv2(x)), 2)\n",
    "        # flatten as one dimension\n",
    "        x = x.view(x.size()[0], -1)\n",
    "        x = F.relu(self.fc1(x))\n",
    "        x = F.relu(self.fc2(x))\n",
    "\n",
    "        x = self.fc3(x)\n",
    "        return x"
   ]
  },
  {
   "cell_type": "code",
   "execution_count": 6,
   "metadata": {},
   "outputs": [],
   "source": [
    "train_batch_size = 10\n",
    "test_batch_size = 10\n",
    "train_loader, test_loader = load_data(train_batch_size, test_batch_size)"
   ]
  },
  {
   "cell_type": "code",
   "execution_count": 7,
   "metadata": {},
   "outputs": [],
   "source": [
    "def train(model, optimizer, train_loader):\n",
    "    model.train()\n",
    "    correct = 0\n",
    "    train_loss = 0\n",
    "    counter = 0\n",
    "\n",
    "    for batch_idx, (data, target) in enumerate(train_loader):\n",
    "        counter += 1\n",
    "        data, target = Variable(data), Variable(target)\n",
    "        optimizer.zero_grad()\n",
    "\n",
    "        # Forward propagation\n",
    "        output = model(data)\n",
    "        loss = loss_fn(output, target)\n",
    "        loss.backward()\n",
    "        optimizer.step()\n",
    "\n",
    "        train_loss += loss.data\n",
    "\n",
    "        pred = np.argmax(output.data, axis=1)\n",
    "        correct += np.equal(pred, target.data).sum()\n",
    "    \n",
    "    train_loss = (train_loss * 100) / len(train_loader.dataset)\n",
    "    acc = 100.0 * correct / len(train_loader.dataset)\n",
    "    return train_loss, acc"
   ]
  },
  {
   "cell_type": "code",
   "execution_count": 8,
   "metadata": {},
   "outputs": [],
   "source": [
    "def test(model, epoch, test_loader):\n",
    "    model.eval()\n",
    "    test_loss = 0\n",
    "    correct = 0\n",
    "\n",
    "    for data, target in test_loader:\n",
    "        data, target = Variable(data), Variable(target)\n",
    "        \n",
    "        output = model(data)\n",
    "        loss = loss_fn(output, target)\n",
    "        test_loss += loss.data\n",
    "\n",
    "        pred = np.argmax(output.data, axis = 1)\n",
    "        correct = correct + np.equal(pred, target.data).sum()\n",
    "\n",
    "    # Print log\n",
    "    test_loss = (test_loss * 100) / len(test_loader.dataset)\n",
    "    print('\\nTest set, Epoch {} , Average loss: {:.4f}, Accuracy: {}/{} ({:.0f}%)\\n'.format(epoch,\n",
    "        test_loss, correct, len(test_loader.dataset),\n",
    "        100. * correct / len(test_loader.dataset)))\n",
    "    return test_loss"
   ]
  },
  {
   "cell_type": "code",
   "execution_count": 9,
   "metadata": {},
   "outputs": [
    {
     "name": "stdout",
     "output_type": "stream",
     "text": [
      "\n",
      "Test set, Epoch 1 , Average loss: 23.0368, Accuracy: 1149/10000 (11%)\n",
      "\n",
      "Epoch:  1\n",
      "Loss=  tensor(23.0304)\n",
      "\n",
      "Test set, Epoch 2 , Average loss: 22.9980, Accuracy: 1061/10000 (11%)\n",
      "\n",
      "Epoch:  2\n",
      "Loss=  tensor(23.0263)\n",
      "\n",
      "Test set, Epoch 3 , Average loss: 22.9650, Accuracy: 854/10000 (9%)\n",
      "\n",
      "Epoch:  3\n",
      "Loss=  tensor(23.0209)\n",
      "\n",
      "Test set, Epoch 4 , Average loss: 23.0087, Accuracy: 912/10000 (9%)\n",
      "\n",
      "Epoch:  4\n",
      "Loss=  tensor(23.0099)\n",
      "\n",
      "Test set, Epoch 5 , Average loss: 23.0176, Accuracy: 715/10000 (7%)\n",
      "\n",
      "Epoch:  5\n",
      "Loss=  tensor(22.9950)\n",
      "\n",
      "Test set, Epoch 6 , Average loss: 22.9831, Accuracy: 986/10000 (10%)\n",
      "\n",
      "Epoch:  6\n",
      "Loss=  tensor(22.9703)\n",
      "\n",
      "Test set, Epoch 7 , Average loss: 23.0873, Accuracy: 842/10000 (8%)\n",
      "\n",
      "Epoch:  7\n",
      "Loss=  tensor(22.9342)\n",
      "\n",
      "Test set, Epoch 8 , Average loss: 23.0242, Accuracy: 1088/10000 (11%)\n",
      "\n",
      "Epoch:  8\n",
      "Loss=  tensor(22.8882)\n",
      "\n",
      "Test set, Epoch 9 , Average loss: 23.0654, Accuracy: 849/10000 (8%)\n",
      "\n",
      "Epoch:  9\n",
      "Loss=  tensor(22.8276)\n",
      "\n",
      "Test set, Epoch 10 , Average loss: 23.0909, Accuracy: 834/10000 (8%)\n",
      "\n",
      "Epoch:  10\n",
      "Loss=  tensor(22.7596)\n",
      "\n",
      "Test set, Epoch 11 , Average loss: 22.8326, Accuracy: 1388/10000 (14%)\n",
      "\n",
      "Epoch:  11\n",
      "Loss=  tensor(22.6880)\n",
      "\n",
      "Test set, Epoch 12 , Average loss: 23.3126, Accuracy: 814/10000 (8%)\n",
      "\n",
      "Epoch:  12\n",
      "Loss=  tensor(22.5940)\n",
      "\n",
      "Test set, Epoch 13 , Average loss: 23.0964, Accuracy: 1116/10000 (11%)\n",
      "\n",
      "Epoch:  13\n",
      "Loss=  tensor(22.5026)\n",
      "\n",
      "Test set, Epoch 14 , Average loss: 23.4555, Accuracy: 862/10000 (9%)\n",
      "\n",
      "Epoch:  14\n",
      "Loss=  tensor(22.3940)\n",
      "\n",
      "Test set, Epoch 15 , Average loss: 23.4171, Accuracy: 947/10000 (9%)\n",
      "\n",
      "Epoch:  15\n",
      "Loss=  tensor(22.2910)\n",
      "\n",
      "Test set, Epoch 16 , Average loss: 23.5177, Accuracy: 994/10000 (10%)\n",
      "\n",
      "Epoch:  16\n",
      "Loss=  tensor(22.1739)\n",
      "\n",
      "Test set, Epoch 17 , Average loss: 23.3151, Accuracy: 1112/10000 (11%)\n",
      "\n",
      "Epoch:  17\n",
      "Loss=  tensor(22.0646)\n",
      "\n",
      "Test set, Epoch 18 , Average loss: 23.5155, Accuracy: 1162/10000 (12%)\n",
      "\n",
      "Epoch:  18\n",
      "Loss=  tensor(21.9579)\n",
      "\n",
      "Test set, Epoch 19 , Average loss: 23.7061, Accuracy: 1089/10000 (11%)\n",
      "\n",
      "Epoch:  19\n",
      "Loss=  tensor(21.8320)\n",
      "\n",
      "Test set, Epoch 20 , Average loss: 23.7717, Accuracy: 1146/10000 (11%)\n",
      "\n",
      "Epoch:  20\n",
      "Loss=  tensor(21.7143)\n"
     ]
    }
   ],
   "source": [
    "model = CNN()\n",
    "\n",
    "optimizer = optim.Adam(model.parameters(), lr=0.0001)\n",
    "m1_train_loss_arr = []\n",
    "m1_test_loss_arr = []\n",
    "\n",
    "epochs = 20\n",
    "log_interval = 500\n",
    "loss_fn = torch.nn.CrossEntropyLoss()\n",
    "for epoch in range(1, epochs + 1):\n",
    "    tr_loss, acc = train(model, optimizer, train_loader)\n",
    "    m1_train_loss_arr.append(tr_loss)\n",
    "    loss_test = test(model, epoch, test_loader)\n",
    "    m1_test_loss_arr.append(loss_test)\n",
    "    print('Epoch: ', epoch)\n",
    "    print('Loss= ', tr_loss)"
   ]
  },
  {
   "cell_type": "code",
   "execution_count": 10,
   "metadata": {},
   "outputs": [],
   "source": [
    "temp_1 = []\n",
    "for i in m1_train_loss_arr:\n",
    "    temp_1.append(i.data.numpy().tolist())\n",
    "temp_2 = []\n",
    "for i in m1_test_loss_arr:\n",
    "    temp_2.append(i.data.numpy().tolist())"
   ]
  },
  {
   "cell_type": "code",
   "execution_count": 12,
   "metadata": {},
   "outputs": [
    {
     "data": {
      "image/png": "[encoded data removed]",
      "text/plain": [
       "<Figure size 864x432 with 1 Axes>"
      ]
     },
     "metadata": {
      "needs_background": "light"
     },
     "output_type": "display_data"
    }
   ],
   "source": [
    "plt.figure(figsize=(12,6))\n",
    "plt.plot(np.arange(0, 20, 1), temp_1, color = \"c\")\n",
    "plt.plot(np.arange(0, 20, 1), temp_2, color = \"m\")\n",
    "plt.title('Loss Comparision for the models')\n",
    "plt.legend(['Training Loss', 'Testing Loss'])\n",
    "plt.xlabel('Epochs')\n",
    "plt.ylabel('Loss')\n",
    "plt.show()"
   ]
  },
  {
   "cell_type": "code",
   "execution_count": null,
   "metadata": {},
   "outputs": [],
   "source": []
  }
 ],
 "metadata": {
  "interpreter": {
   "hash": "5a03e6978a913b76a01264f69485476c06bb2afb04825931e6a903524ca57e27"
  },
  "kernelspec": {
   "display_name": "Python 3 (ipykernel)",
   "language": "python",
   "name": "python3"
  },
  "language_info": {
   "codemirror_mode": {
    "name": "ipython",
    "version": 3
   },
   "file_extension": ".py",
   "mimetype": "text/x-python",
   "name": "python",
   "nbconvert_exporter": "python",
   "pygments_lexer": "ipython3",
   "version": "3.9.7"
  }
 },
 "nbformat": 4,
 "nbformat_minor": 4
}
